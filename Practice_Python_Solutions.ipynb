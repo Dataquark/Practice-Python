{
 "cells": [
  {
   "cell_type": "markdown",
   "metadata": {},
   "source": [
    "**Challenges from Practice Python - [Webpage](practicepython.org)**"
   ]
  },
  {
   "cell_type": "markdown",
   "metadata": {},
   "source": [
    "### Exercise\n",
    "*Create a program that asks the user to enter their name and their age. Print out a message addressed to them that tells them the year that they will turn 100 years old.*"
   ]
  },
  {
   "cell_type": "code",
   "execution_count": null,
   "metadata": {
    "ExecuteTime": {
     "end_time": "2019-06-15T15:22:36.262727Z",
     "start_time": "2019-06-15T15:22:29.264118Z"
    }
   },
   "outputs": [],
   "source": [
    "# SOLUTION\n",
    "\n",
    "current_year = 2019\n",
    "name = input('What is your name: ')\n",
    "age = int(input('What is your age: '))\n",
    "\n",
    "if age >= 0:\n",
    "    age_difference = 100 - age\n",
    "    year_of_100 = current_year + age_difference\n",
    "else:\n",
    "    print(f'You can not be {age} years old. Haha nice try')\n",
    "\n",
    "if age_difference > 0:\n",
    "    if age >= 0:\n",
    "        print(f'Dear {name}, you will turn 100 years old in {year_of_100}')\n",
    "elif age_difference == 0:\n",
    "    print(f'Dear {name}, you are 100 years old this year') \n",
    "else:\n",
    "    print(f'Dear {name}, you were 100 years old in {year_of_100}')"
   ]
  },
  {
   "cell_type": "markdown",
   "metadata": {},
   "source": [
    "### Exercise\n",
    "*Ask the user for a number. Depending on whether the number is even or odd, print out an appropriate message to the user.*"
   ]
  },
  {
   "cell_type": "code",
   "execution_count": null,
   "metadata": {
    "ExecuteTime": {
     "end_time": "2019-06-09T10:40:02.039789Z",
     "start_time": "2019-06-09T10:39:55.160855Z"
    },
    "code_folding": []
   },
   "outputs": [],
   "source": [
    "# SOLUTION\n",
    "\n",
    "number = int(input('Please give me a number: '))\n",
    "\n",
    "if number % 2 == 0:\n",
    "    print('Your given number is even')\n",
    "else:\n",
    "    print('Your number is odd')"
   ]
  },
  {
   "cell_type": "markdown",
   "metadata": {},
   "source": [
    "### Exercise\n",
    "*Take a list, say for example this one:*\n",
    "\n",
    "      a = [1, 1, 2, 3, 5, 8, 13, 21, 34, 55, 89]\n",
    "  \n",
    "*and write a program that prints out all the elements of the list that are less than 5.*"
   ]
  },
  {
   "cell_type": "code",
   "execution_count": null,
   "metadata": {
    "ExecuteTime": {
     "end_time": "2019-06-11T17:24:52.748491Z",
     "start_time": "2019-06-11T17:24:52.737492Z"
    }
   },
   "outputs": [],
   "source": [
    "# SOLUTION\n",
    "\n",
    "a = [1, 1, 2, 3, 5, 8, 13, 21, 34, 55, 89]\n",
    "\n",
    "# for i in a:\n",
    "#     if i < 5:\n",
    "#         print(i)\n",
    "        \n",
    "x = [i for i in a if i <5]\n",
    "print(x)"
   ]
  },
  {
   "cell_type": "markdown",
   "metadata": {},
   "source": [
    "### Exercise\n",
    "*Create a program that asks the user for a number and then prints out a list of all the divisors of that number. (If you don’t know what a divisor is, it is a number that divides evenly into another number. For example, 13 is a divisor of 26 because 26 / 13 has no remainder.)*"
   ]
  },
  {
   "cell_type": "code",
   "execution_count": null,
   "metadata": {
    "ExecuteTime": {
     "end_time": "2019-06-09T11:58:42.903551Z",
     "start_time": "2019-06-09T11:58:36.784191Z"
    },
    "code_folding": []
   },
   "outputs": [],
   "source": [
    "# SOLUTION\n",
    "\n",
    "number = int(input('Give me a number: '))\n",
    "i = 1\n",
    "\n",
    "while i <= number:\n",
    "    if number % i == 0:\n",
    "        print(i)\n",
    "    i+=1"
   ]
  },
  {
   "cell_type": "markdown",
   "metadata": {},
   "source": [
    "### Exercise\n",
    "*Take two lists, say for example these two:*\n",
    "\n",
    "      a = [1, 1, 2, 3, 5, 8, 13, 21, 34, 55, 89]\n",
    "  \n",
    "      b = [1, 2, 3, 4, 5, 6, 7, 8, 9, 10, 11, 12, 13]\n",
    "  \n",
    "*and write a program that returns a list that contains only the elements that are common between the lists (without duplicates). Make sure your program works on two lists of different sizes.*"
   ]
  },
  {
   "cell_type": "code",
   "execution_count": null,
   "metadata": {
    "ExecuteTime": {
     "end_time": "2019-06-11T17:50:22.360120Z",
     "start_time": "2019-06-11T17:50:22.352120Z"
    }
   },
   "outputs": [],
   "source": [
    "# SOLUTION\n",
    "\n",
    "a = [1, 1, 2, 3, 5, 8, 13, 21, 34, 55, 89]\n",
    "b = [1, 2, 3, 4, 5, 6, 7, 8, 9, 10, 11, 12, 13]\n",
    "\n",
    "# c = []\n",
    "# for i in b:\n",
    "#     if i in a:\n",
    "#         c.append(i)\n",
    "# print(c)\n",
    "\n",
    "# List comprehension\n",
    "main_list = [i for i in b if i in a]\n",
    "print(main_list)"
   ]
  },
  {
   "cell_type": "markdown",
   "metadata": {},
   "source": [
    "### Exercise\n",
    "*Ask the user for a string and print out whether this string is a palindrome or not. (A palindrome is a string that reads the same forwards and backwards.)*"
   ]
  },
  {
   "cell_type": "code",
   "execution_count": null,
   "metadata": {
    "ExecuteTime": {
     "end_time": "2019-06-10T15:14:06.006357Z",
     "start_time": "2019-06-10T15:14:00.366029Z"
    }
   },
   "outputs": [],
   "source": [
    "# SOLUTION\n",
    "\n",
    "name = input('Give me some word: ').lower()\n",
    "rev_name = name[::-1]\n",
    "\n",
    "if name == rev_name:\n",
    "    print('This word is palindrome')\n",
    "else:\n",
    "    print('This word is not a palindrome')"
   ]
  },
  {
   "cell_type": "markdown",
   "metadata": {},
   "source": [
    "### Exercise\n",
    "*Let’s say I give you a list saved in a variable:*\n",
    "    \n",
    "    a = [1, 4, 9, 16, 25, 36, 49, 64, 81, 100]. \n",
    " \n",
    " *Write one line of Python that takes this list a and makes a new list that has only the even elements of this list in it.*"
   ]
  },
  {
   "cell_type": "code",
   "execution_count": null,
   "metadata": {
    "ExecuteTime": {
     "end_time": "2019-06-10T15:58:02.283643Z",
     "start_time": "2019-06-10T15:58:02.275956Z"
    }
   },
   "outputs": [],
   "source": [
    "# SOLUTION\n",
    "\n",
    "a = [1, 4, 9, 16, 25, 36, 49, 64, 81, 100]\n",
    "b = a[::2]\n",
    "print(b)"
   ]
  },
  {
   "cell_type": "markdown",
   "metadata": {},
   "source": [
    "### Exercise\n",
    "*Make a two-player Rock-Paper-Scissors game. (Hint: Ask for player plays (using input), compare them, print out a message of congratulations to the winner, and ask if the players want to start a new game)*\n",
    "\n",
    "**Extras:**\n",
    "* Create the game against computer, using random module"
   ]
  },
  {
   "cell_type": "code",
   "execution_count": null,
   "metadata": {
    "ExecuteTime": {
     "end_time": "2019-06-10T16:17:50.668881Z",
     "start_time": "2019-06-10T16:17:47.982162Z"
    }
   },
   "outputs": [],
   "source": [
    "# SOLUTION\n",
    "\n",
    "p_1 = input('Player 1, please choose an element: ').lower()\n",
    "p_2 = input('Player 2, please choose an element: ').lower()\n",
    "\n",
    "if p_1 == 'rock' and p_2 == 'rock':\n",
    "    print('This game is draw')\n",
    "elif p_1 == 'rock' and p_2 == 'scissors':\n",
    "    print('Player 1 won!')\n",
    "elif p_1 == 'rock' and p_2 == 'paper':\n",
    "    print('Player 2 won!')\n",
    "elif p_1 == 'scissors' and p_2 == 'rock':\n",
    "    print('Player 2 won')\n",
    "elif p_1 == 'scissors' and p_2 == 'scissors':\n",
    "    print('This game is draw')\n",
    "elif p_1 == 'scissors' and p_2 == 'paper':\n",
    "    print('Player 1 won!')\n",
    "elif p_1 == 'paper' and p_2 == 'rock':\n",
    "    print('Player 1 won!')\n",
    "elif p_1 == 'paper' and p_2 == 'scissors':\n",
    "    print('Player 2 won!')\n",
    "elif p_1 == 'paper' and p_2 == 'paper':\n",
    "    print('This game is draw')\n",
    "else:\n",
    "    print('You seem to have given a wrong element.')"
   ]
  },
  {
   "cell_type": "markdown",
   "metadata": {},
   "source": [
    "### Exercise\n",
    "*Generate a random number between 1 and 9 (including 1 and 9). Ask the user to guess the number, then tell them whether they guessed too low, too high, or exactly right.*\n",
    "\n",
    "**Extras:**\n",
    "* Keep the game going until the user types “exit”\n",
    "* Keep track of how many guesses the user has taken, and when the game ends, print this out."
   ]
  },
  {
   "cell_type": "code",
   "execution_count": null,
   "metadata": {
    "ExecuteTime": {
     "end_time": "2019-06-11T15:57:23.489847Z",
     "start_time": "2019-06-11T15:57:09.259612Z"
    }
   },
   "outputs": [],
   "source": [
    "# SOLUTION\n",
    "\n",
    "import random\n",
    "\n",
    "rand_number = random.randint(0, 20)\n",
    "initial_num = input('Please give me a number: ')\n",
    "guess = int(initial_num)\n",
    "count = 1\n",
    "\n",
    "if guess != rand_number:\n",
    "    print('Incorrect')\n",
    "    while guess != rand_number and guess != \"exit\":\n",
    "        user_input = input('Please give another number between 1 and 20: ')\n",
    "\n",
    "        if user_input == 'exit':\n",
    "            print('Bye bye')\n",
    "            break\n",
    "\n",
    "        guess = int(user_input)\n",
    "        count+=1\n",
    "\n",
    "        if guess > rand_number:\n",
    "            print('Too high')\n",
    "        elif guess < rand_number:\n",
    "            print('Too low')\n",
    "        else:\n",
    "            print('Bingo')\n",
    "            print(f'and it took you {count} tries to guess the number correctly')\n",
    "else:\n",
    "    print('Correct guess from the first try')"
   ]
  },
  {
   "cell_type": "markdown",
   "metadata": {},
   "source": [
    "### Exercise\n",
    "*Ask the user for a number and determine whether the number is prime or not.*"
   ]
  },
  {
   "cell_type": "code",
   "execution_count": null,
   "metadata": {
    "ExecuteTime": {
     "end_time": "2019-06-11T17:53:27.246846Z",
     "start_time": "2019-06-11T17:53:25.367109Z"
    }
   },
   "outputs": [],
   "source": [
    "# SOLUTION\n",
    "\n",
    "inp_num = int(input('Please give a number: '))\n",
    "i = 1\n",
    "l = []\n",
    "\n",
    "while i <= inp_num:\n",
    "    if inp_num % i == 0:\n",
    "        l.append(i)\n",
    "    i += 1\n",
    "\n",
    "if len(l) == 2:\n",
    "    print('This number is a prime')\n",
    "else:\n",
    "    print('This number is not a prime')"
   ]
  },
  {
   "cell_type": "markdown",
   "metadata": {},
   "source": [
    "### Exercise\n",
    "*Write a program that takes a list of numbers (for example, a = [5, 10, 15, 20, 25]) and makes a new list of only the first and last elements of the given list. For practice, write this code inside a function.*"
   ]
  },
  {
   "cell_type": "code",
   "execution_count": null,
   "metadata": {
    "ExecuteTime": {
     "end_time": "2019-06-11T17:52:43.579351Z",
     "start_time": "2019-06-11T17:52:43.574351Z"
    }
   },
   "outputs": [],
   "source": [
    "# SOLUTION\n",
    "\n",
    "def list_transform(x):\n",
    "    return [x[0], x[-1]] # List comprehension\n",
    "    \n",
    "    \n",
    "l = [5, 10, 15, 20, 25, 35]\n",
    "a = list_transform(l)\n",
    "print(a)"
   ]
  },
  {
   "cell_type": "markdown",
   "metadata": {},
   "source": [
    "### Exercise\n",
    "*Write a program that asks the user how many Fibonnaci numbers to generate and then generates them. Take this opportunity to think about how you can use functions. Make sure to ask the user to enter the number of numbers in the sequence to generate.*"
   ]
  },
  {
   "cell_type": "code",
   "execution_count": null,
   "metadata": {
    "ExecuteTime": {
     "end_time": "2019-06-11T17:17:14.072155Z",
     "start_time": "2019-06-11T17:17:12.932274Z"
    }
   },
   "outputs": [],
   "source": [
    "# SOLUTION\n",
    "\n",
    "inp = int(input('How many numbers from Fibonacci series do you want: '))\n",
    "\n",
    "\n",
    "def fibonacci_numbers(inp):    \n",
    "  i = 2\n",
    "  new_list = [1, 1]\n",
    "  while i <= inp:\n",
    "    new_list.append(new_list[-1]+new_list[-2])\n",
    "    i += 1\n",
    "  return new_list\n",
    "\n",
    "print(fibonacci_numbers(inp))"
   ]
  },
  {
   "cell_type": "markdown",
   "metadata": {},
   "source": [
    "### Exercise\n",
    "*Write a program (function!) that takes a list and returns a new list that contains all the elements of the first list minus all the duplicates.*\n",
    "\n",
    "**Extras:**\n",
    "\n",
    "* Write two different functions to do this - one using a loop and constructing a list, and another using sets.\n",
    "* Go back and do Exercise 5 using sets, and write the solution for that in a different function."
   ]
  },
  {
   "cell_type": "code",
   "execution_count": null,
   "metadata": {
    "ExecuteTime": {
     "end_time": "2019-06-13T13:16:00.552900Z",
     "start_time": "2019-06-13T13:16:00.545199Z"
    }
   },
   "outputs": [],
   "source": [
    "# SOLUTION\n",
    "\n",
    "# with for loop\n",
    "def l_unique(x):    \n",
    "    c = []\n",
    "    for i in x:\n",
    "        if i not in c:\n",
    "            c.append(i)\n",
    "    return c\n",
    "\n",
    "# with sets\n",
    "def s_unique(x):    \n",
    "    return set(x)\n",
    "\n",
    "\n",
    "a = [1, 2, 3, 4, 5, 6, 4, 4, 3, 2, 6, 1, 7, 9, 0, 0]\n",
    "print(l_unique(a))\n",
    "print(list(s_unique(a)))"
   ]
  },
  {
   "cell_type": "markdown",
   "metadata": {},
   "source": [
    "### Exercise\n",
    "*Write a program (using functions!) that asks the user for a long string containing multiple words. Print back to the user the same string, except with the words in backwards order.* \n",
    "\n",
    "*For example, say I type the string:*\n",
    "\n",
    "      My name is Michele\n",
    "\n",
    "Then I would see the string:\n",
    "\n",
    "      Michele is name My\n"
   ]
  },
  {
   "cell_type": "code",
   "execution_count": null,
   "metadata": {
    "ExecuteTime": {
     "end_time": "2019-06-13T13:33:09.590321Z",
     "start_time": "2019-06-13T13:33:05.692188Z"
    }
   },
   "outputs": [],
   "source": [
    "# SOLUTION\n",
    "\n",
    "sentence = input('Please give a sentence with multiple words: ')\n",
    "\n",
    "\n",
    "def reversed_list(x):    \n",
    "    l = list(x.split())\n",
    "    l.reverse()\n",
    "    return l\n",
    "\n",
    "\n",
    "print(reversed_list(sentence))"
   ]
  },
  {
   "cell_type": "markdown",
   "metadata": {},
   "source": [
    "### Exercise\n",
    "*Write a password generator in Python. Be creative with how you generate passwords - strong passwords have a mix of lowercase letters, uppercase letters, numbers, and symbols. The passwords should be random, generating a new password every time the user asks for a new password. Include your run-time code in a main method.*\n",
    "\n",
    "**Extras:**\n",
    "* Ask the user how strong they want their password to be. For weak passwords, pick a word or two from a list."
   ]
  },
  {
   "cell_type": "code",
   "execution_count": null,
   "metadata": {
    "ExecuteTime": {
     "end_time": "2019-06-13T14:33:52.114725Z",
     "start_time": "2019-06-13T14:33:49.793324Z"
    },
    "code_folding": []
   },
   "outputs": [],
   "source": [
    "# SOLUTION\n",
    "\n",
    "import random\n",
    "import string\n",
    "\n",
    "\n",
    "def pass_gen():    \n",
    "    x = input('Please type **strong**, **medium** or **weak** for password: ')\n",
    "    \n",
    "    # initial characters\n",
    "    alphabet = string.ascii_letters\n",
    "    numbers = string.digits\n",
    "    symbols = '=-+.></'\n",
    "    \n",
    "    if x == 'strong':\n",
    "        x = 21\n",
    "    elif x == 'medium':\n",
    "        x = 14\n",
    "    else:\n",
    "        x = 7\n",
    "    \n",
    "    # list of random characters\n",
    "    random_pass = random.choices(alphabet+numbers+symbols, k = x)\n",
    "\n",
    "    # final password\n",
    "    full_string = ''.join(str(elem) for elem in random_pass)\n",
    "    return f'You password: \"{full_string}\"'\n",
    "\n",
    "\n",
    "pass_gen()"
   ]
  },
  {
   "cell_type": "markdown",
   "metadata": {},
   "source": [
    "### Exercise\n",
    "*Use the **BeautifulSoup** and **requests** Python packages to print out a list of all the article titles on the [New York Times homepage](https://www.nytimes.com).*"
   ]
  },
  {
   "cell_type": "code",
   "execution_count": null,
   "metadata": {
    "ExecuteTime": {
     "end_time": "2019-06-14T10:53:31.298462Z",
     "start_time": "2019-06-14T10:53:30.865412Z"
    }
   },
   "outputs": [],
   "source": [
    "# SOLUTION\n",
    "\n",
    "import requests\n",
    "from bs4 import BeautifulSoup\n",
    "\n",
    "url = 'https://www.nytimes.com'\n",
    "r = requests.get(url)\n",
    "r_html = r.text\n",
    "\n",
    "soup = BeautifulSoup(r_html)\n",
    "\n",
    "articles = soup.find_all('h2')\n",
    "articles_list = []\n",
    "\n",
    "for i in articles_list:\n",
    "    articles_list.append(i.text)\n",
    "    \n",
    "print(articles_list)"
   ]
  },
  {
   "cell_type": "markdown",
   "metadata": {},
   "source": [
    "### Exercise\n",
    "*Create a program that will play the “cows and bulls” game with the user. The game works like this:*\n",
    "\n",
    "   * Randomly generate a 4-digit number. Ask the user to guess a 4-digit number. For every digit that the user guessed correctly in the correct place, they have a “cow”. For every digit the user guessed correctly in the wrong place is a “bull.”\n",
    "   * Every time the user makes a guess, tell them how many “cows” and “bulls” they have. Once the user guesses the correct number, the game is over. Keep track of the number of guesses the user makes throughout teh game and tell the user at the end."
   ]
  },
  {
   "cell_type": "code",
   "execution_count": null,
   "metadata": {
    "ExecuteTime": {
     "end_time": "2019-06-16T18:20:51.621462Z",
     "start_time": "2019-06-16T18:20:28.763507Z"
    }
   },
   "outputs": [],
   "source": [
    "# SOLUTION\n",
    "import random\n",
    "\n",
    "\n",
    "def cow_bull():\n",
    "    \"\"\"\n",
    "    Function that play cows and bulls game with user.\n",
    "    Traditional rules: http://www.papg.com/show?1\n",
    "    \"\"\"\n",
    "    \n",
    "    rand_num = str(random.randint(1000, 9999))\n",
    "    print(rand_num)\n",
    "    loser = True\n",
    "    tries = 0\n",
    "\n",
    "    while loser:\n",
    "\n",
    "        cows = 0\n",
    "        bull = 0\n",
    "        user_num = input(\"Please give us a four digit number: \")\n",
    "\n",
    "        if user_num == rand_num:\n",
    "            print(\"You win!\")\n",
    "            loser = False\n",
    "            tries += 1\n",
    "        else:\n",
    "            for i in range(len(rand_num)):\n",
    "                if user_num[i] == rand_num[i]:\n",
    "                    bull += 1\n",
    "                elif user_num[i] in rand_num:\n",
    "                    cows += 1\n",
    "            tries += 1\n",
    "            print(f\"You have {cows} cows and {bull} bulls and tried {tries} times\")\n",
    "\n",
    "    print(f\"Randon number was {rand_num} and it took you {tries} tries to guess it\")\n",
    "\n",
    "    \n",
    "if __name__ == \"__main__\":\n",
    "    cow_bull()"
   ]
  },
  {
   "cell_type": "markdown",
   "metadata": {},
   "source": [
    "### Exercise\n",
    "*Using the requests and BeautifulSoup Python libraries, print to the screen the full text of the article on [this website:]( http://www.vanityfair.com/society/2014/06/monica-lewinsky-humiliation-culture.)*\n",
    "\n",
    "..The article is long, so it is split up between 4 pages. Your task is to print out the text to the screen so that you can read the full article without having to click any buttons.\n",
    "\n",
    "**Extras:**\n",
    "* Write the results to **.txt** file and save"
   ]
  },
  {
   "cell_type": "markdown",
   "metadata": {},
   "source": [
    "### Exercise\n",
    "*Write a function that takes an ordered list of numbers (a list where the elements are in order from smallest to largest) and another number. The function decides whether or not the given number is inside the list and returns (then prints) an appropriate boolean.*\n",
    "\n",
    "**Extras:**\n",
    "\n",
    "* Use binary search."
   ]
  },
  {
   "cell_type": "code",
   "execution_count": 34,
   "metadata": {
    "ExecuteTime": {
     "end_time": "2019-06-17T18:28:33.464515Z",
     "start_time": "2019-06-17T18:28:33.454756Z"
    }
   },
   "outputs": [
    {
     "name": "stdout",
     "output_type": "stream",
     "text": [
      "Your number is not in the list\n",
      "Thank you\n"
     ]
    }
   ],
   "source": [
    "# SOLUTION\n",
    "\n",
    "rand_list = [1, 3 ,5, 8, 10, 11, 24, 56, 76, 78, 91, 98]\n",
    "rand_num = 2\n",
    "\n",
    "# if rand_num in rand_list:\n",
    "#     print('Your number is indeed in the list')\n",
    "# else:\n",
    "#     print('Too bad. Your number is not in the list')\n",
    "\n",
    "def binary_search(x_list, x_num):\n",
    "\n",
    "    while True:\n",
    "        mid = int(len(x_list)/2)\n",
    "        \n",
    "        if x_num < x_list[mid]:\n",
    "            x_list = x_list[:mid]\n",
    "        else:\n",
    "            x_list = x_list[mid:]\n",
    "\n",
    "        if len(x_list) == 1:        \n",
    "            if x_num == x_list[0]:\n",
    "                print('Your number is in the list')\n",
    "            else:\n",
    "                print('Your number is not in the list')\n",
    "            break\n",
    "            \n",
    "    print('Thank you')\n",
    "\n",
    "binary_search(rand_list, rand_num)"
   ]
  },
  {
   "cell_type": "markdown",
   "metadata": {},
   "source": [
    "### Exercise\n",
    "*Time for some fake graphics! Let’s say we want to draw game boards that look like this:*\n",
    "\n",
    "     --- --- --- \n",
    "    |   |   |   | \n",
    "     --- --- ---  \n",
    "    |   |   |   | \n",
    "     --- --- ---  \n",
    "    |   |   |   | \n",
    "     --- --- --- \n",
    "*This one is 3x3 (like in tic tac toe).*\n",
    "\n",
    "*Ask the user what size game board they want to draw, and draw it for them to the screen using Python’s print statement.*"
   ]
  },
  {
   "cell_type": "code",
   "execution_count": null,
   "metadata": {
    "ExecuteTime": {
     "end_time": "2019-06-18T17:51:56.072874Z",
     "start_time": "2019-06-18T17:51:51.331565Z"
    }
   },
   "outputs": [],
   "source": [
    "# SOLUTION\n",
    "\n",
    "user_wish = int(input('What size of square do you want? '))\n",
    "print(f'\\nHere is {user_wish} by {user_wish} grid')\n",
    "\n",
    "row_dot = ' ---'\n",
    "column = '|   '\n",
    "        \n",
    "for i in range(user_wish + 1):\n",
    "    print(row_dot * user_wish)\n",
    "    if i == user_wish:\n",
    "        break\n",
    "    else:\n",
    "        print(column * (user_wish + 1))\n",
    "    "
   ]
  },
  {
   "cell_type": "markdown",
   "metadata": {},
   "source": [
    "### Exercise\n",
    "*As you may have guessed, we are trying to build up to a full tic-tac-toe board. However, this is significantly more than half an hour of coding, so we’re doing it in pieces.*\n",
    "\n",
    "*For now, we will simply focus on checking whether someone has WON a game of Tic Tac Toe, not worrying about how the moves were made.*\n",
    "\n",
    "*If a game of Tic Tac Toe is represented as a list of lists, like so:*\n",
    "\n",
    "    game = [[1, 2, 0],\n",
    "            [2, 1, 0],\n",
    "            [2, 1, 1]]\n",
    "*where a 0 means an empty square, a 1 means that player 1 put their token in that space, and a 2 means that player 2 put their token in that space.*\n",
    "\n",
    "_**Your task this time:** given a 3 by 3 list of lists that represents a Tic Tac Toe game board, tell me whether anyone has won, and tell me which player won, if any. A Tic Tac Toe win is 3 in a row - either in a row, a column, or a diagonal. Don’t worry about the case where TWO people have won - assume that in every board there will only be one winner._"
   ]
  },
  {
   "cell_type": "code",
   "execution_count": 28,
   "metadata": {
    "ExecuteTime": {
     "end_time": "2019-06-18T22:33:08.255645Z",
     "start_time": "2019-06-18T22:33:08.223799Z"
    },
    "code_folding": []
   },
   "outputs": [
    {
     "name": "stdout",
     "output_type": "stream",
     "text": [
      "No row winner\n",
      "No column winner\n",
      "Player 2: diagonal win\n"
     ]
    }
   ],
   "source": [
    "# SOLUTION\n",
    "\n",
    "the_game = [[1, 2, 2], \n",
    "            [2, 2, 1], \n",
    "            [2, 1, 1]]\n",
    "\n",
    "\n",
    "def row_check(x):\n",
    "\n",
    "    game = x\n",
    "\n",
    "    for l in game:\n",
    "        if (len(set(l)) == 1) and (l[0] == 1):\n",
    "            answer = \"Player 1 won by row\"\n",
    "            break\n",
    "        elif (len(set(l)) == 1) and (l[0] == 2):\n",
    "            answer = \"Player 2 won by row\"\n",
    "            break\n",
    "        else:\n",
    "            answer = \"No row winner\"\n",
    "\n",
    "    return answer\n",
    "\n",
    "\n",
    "def col_check(x):\n",
    "\n",
    "    game = x\n",
    "    diag_sum = [sum(x) for x in zip(*game)]\n",
    "\n",
    "    if 3 in diag_sum:\n",
    "        answer = \"Player 1 won by column\"\n",
    "    elif 6 in diag_sum:\n",
    "        answer = \"Player 2 won by column\"\n",
    "    else:\n",
    "        answer = \"No column winner\"\n",
    "\n",
    "    return answer\n",
    "\n",
    "\n",
    "def diag_check(x):\n",
    "\n",
    "    diag_left = []\n",
    "    diag_right = []\n",
    "    game = x\n",
    "\n",
    "    for i in range(3):\n",
    "        diag_left.append(game[i][i])\n",
    "        diag_right.append(game[i][-i-1])\n",
    "\n",
    "    if (len(set(diag_left)) == 1) and (diag_left[0] == 1 or diag_right[0] == 1):\n",
    "        answer = \"Player 1: diagonal win\"\n",
    "    elif (len(set(diag_right)) == 1) and (diag_left[0] == 2 or diag_right[0] == 2):\n",
    "        answer = \"Player 2: diagonal win\"\n",
    "    else:\n",
    "        answer = \"No diagonal win\"\n",
    "\n",
    "    return answer\n",
    "\n",
    "if __name__ == \"__main__\":\n",
    "    print(row_check(the_game))\n",
    "    print(col_check(the_game))\n",
    "    print(diag_check(the_game))\n"
   ]
  },
  {
   "cell_type": "markdown",
   "metadata": {},
   "source": [
    "### Exercise\n",
    "*In a previous exercise we explored the idea of using a list of lists as a “data structure” to store information about a tic tac toe game. In a tic tac toe game, the “game server” needs to know where the Xs and Os are in the board, to know whether player 1 or player 2 (or whoever is X and O won).*\n",
    "\n",
    "*There has also been an exercise (**20**) about drawing the actual tic tac toe gameboard using text characters.*\n",
    "\n",
    "_The **next logical step** is to deal with handling user input. When a player (say player 1, who is X) wants to place an X on the screen, they can’t just click on a terminal. So you are going to approximate this clicking simply by asking the user for a coordinate of where they want to place their piece._"
   ]
  },
  {
   "cell_type": "markdown",
   "metadata": {},
   "source": [
    "### Exercise\n",
    "*In 3 previous exercises, we built up a few components needed to build a Tic Tac Toe game in Python:*\n",
    "\n",
    "1. Draw the Tic Tac Toe game board\n",
    "2. Checking whether a game board has a winner\n",
    "3. Handle a player move from user input\n",
    "\n",
    "**The next step is to put all these three components together to make a two-player Tic Tac Toe game!**\n",
    "\n",
    "*Your challenge in this exercise is to use the functions from those previous exercises all together in the same program to make a two-player game that you can play with a friend. There are a lot of choices you will have to make when completing this exercise, so you can go as far or as little as you want with it.*\n",
    "\n",
    "**Here are a few things to keep in mind:**\n",
    "\n",
    "* You should keep track of who won - if there is a winner, show a congratulatory message on the screen.\n",
    "* If there are no more moves left, don’t ask for the next player’s move!\n",
    "* As a bonus, you can ask the players if they want to play again and keep a running tally of who won more - Player 1 or Player 2."
   ]
  },
  {
   "cell_type": "markdown",
   "metadata": {},
   "source": [
    "### Exercise\n",
    "*You, the user, will have in your head a number between 0 and 100. The program will guess a number, and you, the user, will say whether it is too high, too low, or your number.*\n",
    "\n",
    "At the end of this exchange, your program should print out how many guesses it took to get your number."
   ]
  },
  {
   "cell_type": "markdown",
   "metadata": {},
   "source": [
    "### Exercise\n",
    "_Implement a function that takes as input three variables, and returns the largest of the three. **Do this without using the Python max() function!**_\n",
    "\n",
    "* The goal of this exercise is to think about some internals that Python normally takes care of for us. All you need is some variables and if statements!"
   ]
  },
  {
   "cell_type": "markdown",
   "metadata": {},
   "source": [
    "### Exercise\n",
    "_In this exercise, the task is to write a function that picks a random word from a list of words from the [**SOWPODS**](http://norvig.com/ngrams/sowpods.txt) dictionary._\n",
    "\n",
    "_Download this file and save it in the same directory as your Python code. Each line in the file contains a single word._\n",
    "\n",
    "  * Use the Python random library for picking a random word."
   ]
  },
  {
   "cell_type": "markdown",
   "metadata": {},
   "source": [
    "### Exercise\n",
    "*In the game of Hangman, a clue word is given by the program that the player has to guess, letter by letter. The player guesses one letter at a time until the entire word has been guessed. (In the actual game, the player can only guess 6 letters incorrectly before losing).*\n",
    "\n",
    "* Let’s say the word the player has to guess is **EVAPORATE**. \n",
    "\n",
    "**For this exercise:** \n",
    "\n",
    "_Write the logic that asks a player to guess a letter and displays letters in the clue word that were guessed correctly. For now, let the player guess an infinite number of times until they get the entire word. As a bonus, keep track of the letters the player guessed and display a different message if the player tries to guess that letter again. Remember to stop the game when all the letters have been guessed correctly! Don’t worry about choosing a word randomly or keeping track of the number of guesses the player has remaining - we will deal with those in a future exercise._"
   ]
  },
  {
   "cell_type": "markdown",
   "metadata": {},
   "source": [
    "### Exercise\n",
    "*In this exercise, we will finish building Hangman. In the game of Hangman, the player only has 6 incorrect guesses (head, body, 2 legs, and 2 arms) before they lose the game.*\n",
    "\n",
    "1. In Part 1, we loaded a random word list and picked a word from it. \n",
    "2. In Part 2, we wrote the logic for guessing the letter and displaying that information to the user. \n",
    "\n",
    "_In this exercise, we have to put it all together and add logic for handling guesses._\n",
    "\n",
    "_**Copy your code from Parts 1 and 2 into a new file as a starting point. Now add the following features:**_\n",
    "\n",
    "* Only let the user guess 6 times, and tell the user how many guesses they have left.\n",
    "- Keep track of the letters the user guessed. If the user guesses a letter they already guessed, don’t penalize them - let them guess again.\n",
    "\n",
    "**Optional additions:**\n",
    "\n",
    "- When the player wins or loses, let them start a new game.\n",
    "- Rather than telling the user \"You have 4 incorrect guesses left\", display some picture art for the Hangman. This is challenging - do the other parts of the exercise first!\n",
    "\n",
    "_Your solution will be a lot cleaner if you make use of functions to help you!_"
   ]
  },
  {
   "cell_type": "markdown",
   "metadata": {},
   "source": [
    "### Exercise\n",
    "*For this exercise, we will keep track of when our friend’s birthdays are, and be able to find that information based on their name.*\n",
    "\n",
    "*Create a dictionary (in your file) of names and birthdays. When you run your program it should ask the user to enter a name, and return the birthday of that person back to them. The interaction should look something like this:*\n",
    "\n",
    "    >>> Welcome to the birthday dictionary. We know the birthdays of:\n",
    "    Albert Einstein\n",
    "    Benjamin Franklin\n",
    "    Ada Lovelace\n",
    "    >>> Who's birthday do you want to look up?\n",
    "    Benjamin Franklin\n",
    "    >>> Benjamin Franklin's birthday is 01/17/1706.*"
   ]
  },
  {
   "cell_type": "markdown",
   "metadata": {},
   "source": [
    "### Exercise\n",
    "*In the previous exercise we created a dictionary of famous scientists’ birthdays.* \n",
    "\n",
    "*In this exercise, modify your program from Part 1 to load the birthday dictionary from a JSON file on disk, rather than having the dictionary defined in the program.*\n",
    "\n",
    "**Bonus:** \n",
    "- Ask the user for another scientist’s name and birthday to add to the dictionary, and update the JSON file you have on disk with the scientist’s name. If you run the program multiple times and keep adding new names, your JSON file should keep getting bigger and bigger.*"
   ]
  },
  {
   "cell_type": "markdown",
   "metadata": {},
   "source": [
    "### Exercise\n",
    "*In the previous exercise we saved information about famous scientists’ names and birthdays to disk.* \n",
    "\n",
    "*In this exercise, load that JSON file from disk, extract the months of all the birthdays, and count how many scientists have a birthday in each month.*\n",
    "\n",
    "_Your program should output something like:_\n",
    "\n",
    "    {\n",
    "        \"May\": 3,\n",
    "        \"November\": 2,\n",
    "        \"December\": 1\n",
    "    }"
   ]
  },
  {
   "cell_type": "markdown",
   "metadata": {},
   "source": [
    "### Exercise\n",
    "*In this exercise, use the [bokeh](http://bokeh.pydata.org/en/latest/) Python library to plot a histogram of which months the scientists have birthdays in! Because it would take a long time for you to input the months of various scientists, you can use [my scientist birthday JSON file](https://www.practicepython.org/assets/scientist_birthdays.json). Just parse out the months (if you don’t know how, I suggest looking at the previous exercise or its solution) and draw your histogram.*"
   ]
  }
 ],
 "metadata": {
  "hide_input": false,
  "kernelspec": {
   "display_name": "Python 3",
   "language": "python",
   "name": "python3"
  },
  "language_info": {
   "codemirror_mode": {
    "name": "ipython",
    "version": 3
   },
   "file_extension": ".py",
   "mimetype": "text/x-python",
   "name": "python",
   "nbconvert_exporter": "python",
   "pygments_lexer": "ipython3",
   "version": "3.7.3"
  },
  "toc": {
   "base_numbering": 1,
   "nav_menu": {},
   "number_sections": true,
   "sideBar": true,
   "skip_h1_title": false,
   "title_cell": "Table of Contents",
   "title_sidebar": "Contents",
   "toc_cell": false,
   "toc_position": {},
   "toc_section_display": true,
   "toc_window_display": false
  },
  "varInspector": {
   "cols": {
    "lenName": 16,
    "lenType": 16,
    "lenVar": 40
   },
   "kernels_config": {
    "python": {
     "delete_cmd_postfix": "",
     "delete_cmd_prefix": "del ",
     "library": "var_list.py",
     "varRefreshCmd": "print(var_dic_list())"
    },
    "r": {
     "delete_cmd_postfix": ") ",
     "delete_cmd_prefix": "rm(",
     "library": "var_list.r",
     "varRefreshCmd": "cat(var_dic_list()) "
    }
   },
   "types_to_exclude": [
    "module",
    "function",
    "builtin_function_or_method",
    "instance",
    "_Feature"
   ],
   "window_display": false
  }
 },
 "nbformat": 4,
 "nbformat_minor": 2
}
