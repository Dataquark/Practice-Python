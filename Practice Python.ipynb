{
 "cells": [
  {
   "cell_type": "markdown",
   "metadata": {},
   "source": [
    "**Challenges, exercises from Practice Python - [Webpage](practicepython.org)**\n",
    "\n",
    "_All credit goes to the author of the webpage._"
   ]
  },
  {
   "cell_type": "markdown",
   "metadata": {},
   "source": [
    "### Exercise 1\n",
    "*Create a program that asks the user to enter their name and their age. Print out a message addressed to them that tells them the year that they will turn 100 years old.*"
   ]
  },
  {
   "cell_type": "markdown",
   "metadata": {},
   "source": [
    "### Exercise 2\n",
    "*Ask the user for a number. Depending on whether the number is even or odd, print out an appropriate message to the user.*"
   ]
  },
  {
   "cell_type": "markdown",
   "metadata": {},
   "source": [
    "### Exercise 3\n",
    "*Take a list, say for example this one:*\n",
    "\n",
    "      a = [1, 1, 2, 3, 5, 8, 13, 21, 34, 55, 89]\n",
    "  \n",
    "*and write a program that prints out all the elements of the list that are less than 5.*"
   ]
  },
  {
   "cell_type": "markdown",
   "metadata": {},
   "source": [
    "### Exercise 4\n",
    "*Create a program that asks the user for a number and then prints out a list of all the divisors of that number. (If you don’t know what a divisor is, it is a number that divides evenly into another number. For example, 13 is a divisor of 26 because 26 / 13 has no remainder.)*"
   ]
  },
  {
   "cell_type": "markdown",
   "metadata": {},
   "source": [
    "### Exercise 5\n",
    "*Take two lists, say for example these two:*\n",
    "\n",
    "      a = [1, 1, 2, 3, 5, 8, 13, 21, 34, 55, 89]\n",
    "  \n",
    "      b = [1, 2, 3, 4, 5, 6, 7, 8, 9, 10, 11, 12, 13]\n",
    "  \n",
    "*and write a program that returns a list that contains only the elements that are common between the lists (without duplicates). Make sure your program works on two lists of different sizes.*"
   ]
  },
  {
   "cell_type": "markdown",
   "metadata": {},
   "source": [
    "### Exercise 6\n",
    "*Ask the user for a string and print out whether this string is a palindrome or not. (A palindrome is a string that reads the same forwards and backwards.)*"
   ]
  },
  {
   "cell_type": "markdown",
   "metadata": {},
   "source": [
    "### Exercise 7\n",
    "*Let’s say I give you a list saved in a variable:*\n",
    "    \n",
    "    a = [1, 4, 9, 16, 25, 36, 49, 64, 81, 100]. \n",
    " \n",
    " *Write one line of Python that takes this list a and makes a new list that has only the even elements of this list in it.*"
   ]
  },
  {
   "cell_type": "markdown",
   "metadata": {},
   "source": [
    "### Exercise 8\n",
    "*Make a two-player Rock-Paper-Scissors game. (Hint: Ask for player plays (using input), compare them, print out a message of congratulations to the winner, and ask if the players want to start a new game)*\n",
    "\n",
    "**Extras:**\n",
    "* Create the game against computer, using random module"
   ]
  },
  {
   "cell_type": "markdown",
   "metadata": {},
   "source": [
    "### Exercise 9\n",
    "*Generate a random number between 1 and 9 (including 1 and 9). Ask the user to guess the number, then tell them whether they guessed too low, too high, or exactly right.*\n",
    "\n",
    "**Extras:**\n",
    "* Keep the game going until the user types “exit”\n",
    "* Keep track of how many guesses the user has taken, and when the game ends, print this out."
   ]
  },
  {
   "cell_type": "markdown",
   "metadata": {},
   "source": [
    "### Exercise 10\n",
    "*Ask the user for a number and determine whether the number is prime or not.*\n",
    "\n",
    "**Extras**\n",
    "* Do it using a function"
   ]
  },
  {
   "cell_type": "markdown",
   "metadata": {},
   "source": [
    "### Exercise 11\n",
    "*Write a program that takes a list of numbers (for example, a = [5, 10, 15, 20, 25]) and makes a new list of only the first and last elements of the given list. For practice, write this code inside a function.*"
   ]
  },
  {
   "cell_type": "markdown",
   "metadata": {},
   "source": [
    "### Exercise 12\n",
    "*Write a program that asks the user how many Fibonnaci numbers to generate and then generates them. Take this opportunity to think about how you can use functions. Make sure to ask the user to enter the number of numbers in the sequence to generate.*"
   ]
  },
  {
   "cell_type": "markdown",
   "metadata": {},
   "source": [
    "### Exercise 13\n",
    "*Write a program (function!) that takes a list and returns a new list that contains all the elements of the first list minus all the duplicates.*\n",
    "\n",
    "**Extras:**\n",
    "\n",
    "* Write two different functions to do this - one using a loop and constructing a list, and another using sets.\n",
    "* Go back and do Exercise 5 using sets, and write the solution for that in a different function."
   ]
  },
  {
   "cell_type": "markdown",
   "metadata": {},
   "source": [
    "### Exercise 14\n",
    "*Write a program (using functions!) that asks the user for a long string containing multiple words. Print back to the user the same string, except with the words in backwards order.* \n",
    "\n",
    "*For example, say I type the string:*\n",
    "\n",
    "      My name is Michele\n",
    "\n",
    "Then I would see the string:\n",
    "\n",
    "      Michele is name My\n"
   ]
  },
  {
   "cell_type": "markdown",
   "metadata": {},
   "source": [
    "### Exercise 15\n",
    "*Write a password generator in Python. Be creative with how you generate passwords - strong passwords have a mix of lowercase letters, uppercase letters, numbers, and symbols. The passwords should be random, generating a new password every time the user asks for a new password. Include your run-time code in a main method.*\n",
    "\n",
    "**Extras:**\n",
    "* Ask the user how strong they want their password to be. For weak passwords, pick a word or two from a list."
   ]
  },
  {
   "cell_type": "markdown",
   "metadata": {},
   "source": [
    "### Exercise 16\n",
    "*Use the **BeautifulSoup** and **requests** Python packages to print out a list of all the article titles on the [New York Times homepage](https://www.nytimes.com).*"
   ]
  },
  {
   "cell_type": "markdown",
   "metadata": {},
   "source": [
    "### Exercise 17\n",
    "*Create a program that will play the “cows and bulls” game with the user. The game works like this:*\n",
    "\n",
    "   * Randomly generate a 4-digit number. Ask the user to guess a 4-digit number. For every digit that the user guessed correctly in the correct place, they have a “cow”. For every digit the user guessed correctly in the wrong place is a “bull.”\n",
    "   * Every time the user makes a guess, tell them how many “cows” and “bulls” they have. Once the user guesses the correct number, the game is over. Keep track of the number of guesses the user makes throughout the game and tell the user at the end."
   ]
  },
  {
   "cell_type": "markdown",
   "metadata": {},
   "source": [
    "### Exercise 18\n",
    "*Write a function that takes an ordered list of numbers (a list where the elements are in order from smallest to largest) and another number. The function decides whether or not the given number is inside the list and returns (then prints) an appropriate boolean.*\n",
    "\n",
    "**Extras:**\n",
    "\n",
    "* Use binary search."
   ]
  },
  {
   "cell_type": "markdown",
   "metadata": {},
   "source": [
    "### Exercise 19\n",
    "*Time for some fake graphics! Let’s say we want to draw game boards that look like this:*\n",
    "\n",
    "     --- --- --- \n",
    "    |   |   |   | \n",
    "     --- --- ---  \n",
    "    |   |   |   | \n",
    "     --- --- ---  \n",
    "    |   |   |   | \n",
    "     --- --- --- \n",
    "*This one is 3x3 (like in tic tac toe).*\n",
    "\n",
    "*Ask the user what size game board they want to draw, and draw it for them to the screen using Python’s print statement.*"
   ]
  },
  {
   "cell_type": "markdown",
   "metadata": {},
   "source": [
    "### Exercise 20\n",
    "*As you may have guessed, we are trying to build up to a full tic-tac-toe board. However, this is significantly more than half an hour of coding, so we’re doing it in pieces.*\n",
    "\n",
    "*For now, we will simply focus on checking whether someone has WON a game of Tic Tac Toe, not worrying about how the moves were made.*\n",
    "\n",
    "*If a game of Tic Tac Toe is represented as a list of lists, like so:*\n",
    "\n",
    "    game = [[1, 2, 0],\n",
    "            [2, 1, 0],\n",
    "            [2, 1, 1]]\n",
    "*where a 0 means an empty square, a 1 means that player 1 put their token in that space, and a 2 means that player 2 put their token in that space.*\n",
    "\n",
    "_**Your task this week:** given a 3 by 3 list of lists that represents a Tic Tac Toe game board, tell me whether anyone has won, and tell me which player won, if any. A Tic Tac Toe win is 3 in a row - either in a row, a column, or a diagonal. Don’t worry about the case where TWO people have won - assume that in every board there will only be one winner._"
   ]
  },
  {
   "cell_type": "markdown",
   "metadata": {},
   "source": [
    "### Exercise 21\n",
    "*In a previous exercise we explored the idea of using a list of lists as a “data structure” to store information about a tic tac toe game. In a tic tac toe game, the “game server” needs to know where the Xs and Os are in the board, to know whether player 1 or player 2 (or whoever is X and O won).*\n",
    "\n",
    "*There has also been an exercise (**20**) about drawing the actual tic tac toe gameboard using text characters.*\n",
    "\n",
    "_The **next logical step** is to deal with handling user input. When a player (say player 1, who is X) wants to place an X on the screen, they can’t just click on a terminal. So you are going to approximate this clicking simply by asking the user for a coordinate of where they want to place their piece._"
   ]
  },
  {
   "cell_type": "markdown",
   "metadata": {},
   "source": [
    "### Exercise 22\n",
    "*In 3 previous exercises, we built up a few components needed to build a Tic Tac Toe game in Python:*\n",
    "\n",
    "1. Draw the Tic Tac Toe game board\n",
    "2. Checking whether a game board has a winner\n",
    "3. Handle a player move from user input\n",
    "\n",
    "**The next step is to put all these three components together to make a two-player Tic Tac Toe game!**\n",
    "\n",
    "*Your challenge in this exercise is to use the functions from those previous exercises all together in the same program to make a two-player game that you can play with a friend. There are a lot of choices you will have to make when completing this exercise, so you can go as far or as little as you want with it.*\n",
    "\n",
    "**Here are a few things to keep in mind:**\n",
    "\n",
    "* You should keep track of who won - if there is a winner, show a congratulatory message on the screen.\n",
    "* If there are no more moves left, don’t ask for the next player’s move!\n",
    "* As a bonus, you can ask the players if they want to play again and keep a running tally of who won more - Player 1 or Player 2."
   ]
  },
  {
   "cell_type": "markdown",
   "metadata": {},
   "source": [
    "### Exercise 23\n",
    "*You, the user, will have in your head a number between 0 and 100. The program will guess a number, and you, the user, will say whether it is too high, too low, or your number.*\n",
    "\n",
    "At the end of this exchange, your program should print out how many guesses it took to get your number."
   ]
  },
  {
   "cell_type": "markdown",
   "metadata": {},
   "source": [
    "### Exercise 24\n",
    "_Implement a function that takes as input three variables, and returns the largest of the three. **Do this without using the Python max() function!**_\n",
    "\n",
    "* The goal of this exercise is to think about some internals that Python normally takes care of for us. All you need is some variables and if statements!"
   ]
  },
  {
   "cell_type": "markdown",
   "metadata": {},
   "source": [
    "### Exercise 25\n",
    "_In this exercise, the task is to write a function that picks a random word from a list of words from the [**SOWPODS**](http://norvig.com/ngrams/sowpods.txt) dictionary._\n",
    "\n",
    "_Download this file and save it in the same directory as your Python code. Each line in the file contains a single word._\n",
    "\n",
    "  * Use the Python random library for picking a random word."
   ]
  },
  {
   "cell_type": "markdown",
   "metadata": {},
   "source": [
    "### Exercise 26\n",
    "*In the game of Hangman, a clue word is given by the program that the player has to guess, letter by letter. The player guesses one letter at a time until the entire word has been guessed. (In the actual game, the player can only guess 6 letters incorrectly before losing).*\n",
    "\n",
    "* Let’s say the word the player has to guess is **EVAPORATE**. \n",
    "\n",
    "**For this exercise:** \n",
    "\n",
    "_Write the logic that asks a player to guess a letter and displays letters in the clue word that were guessed correctly. For now, let the player guess an infinite number of times until they get the entire word. As a bonus, keep track of the letters the player guessed and display a different message if the player tries to guess that letter again. Remember to stop the game when all the letters have been guessed correctly! Don’t worry about choosing a word randomly or keeping track of the number of guesses the player has remaining - we will deal with those in a future exercise._"
   ]
  },
  {
   "cell_type": "markdown",
   "metadata": {},
   "source": [
    "### Exercise 27\n",
    "*In this exercise, we will finish building Hangman. In the game of Hangman, the player only has 6 incorrect guesses (head, body, 2 legs, and 2 arms) before they lose the game.*\n",
    "\n",
    "1. In Part 1, we loaded a random word list and picked a word from it. \n",
    "2. In Part 2, we wrote a logic for guessing the letter and displaying that information to user. \n",
    "\n",
    "_In this exercise, we have to put it all together and add logic for handling guesses._\n",
    "\n",
    "_**Copy your code from Parts 1 and 2 into a new file as a starting point. Now add the following features:**_\n",
    "\n",
    "* Only let the user guess 6 times, and tell the user how many guesses they have left.\n",
    "- Keep track of the letters user guessed. If the user guesses a letter they had already guessed, don’t penalize them - let them guess again.\n",
    "\n",
    "**Optional additions:**\n",
    "\n",
    "- When the player wins or loses, let them start a new game.\n",
    "- Rather than telling the user \"You have 4 incorrect guesses left\", display some picture art for the Hangman. This is challenging - do the other parts of the exercise first!\n",
    "\n",
    "_Your solution will be a lot cleaner if you make use of functions to help you!_"
   ]
  },
  {
   "cell_type": "markdown",
   "metadata": {},
   "source": [
    "### Exercise 28\n",
    "*For this exercise, we will keep track of when our friend’s birthdays are, and be able to find that information based on their name.*\n",
    "\n",
    "*Create a dictionary (in your file) of names and birthdays. When you run your program it should ask the user to enter a name, and return the birthday of that person back to them. The interaction should look something like this:*\n",
    "\n",
    "    >>> Welcome to the birthday dictionary. We know the birthdays of:\n",
    "    Albert Einstein\n",
    "    Benjamin Franklin\n",
    "    Ada Lovelace\n",
    "    >>> Who's birthday do you want to look up?\n",
    "    Benjamin Franklin\n",
    "    >>> Benjamin Franklin's birthday is 01/17/1706.*"
   ]
  },
  {
   "cell_type": "markdown",
   "metadata": {},
   "source": [
    "### Exercise 29\n",
    "*In the previous exercise we created a dictionary of famous scientists’ birthdays.* \n",
    "\n",
    "*In this exercise, modify your program from Part 1 to load the birthday dictionary from a JSON file on disk, rather than having the dictionary defined in the program.*\n",
    "\n",
    "**Bonus:** \n",
    "- Ask the user for another scientist’s name and birthday to add to the dictionary, and update the JSON file you have on disk with the scientist’s name. If you run the program multiple times and keep adding new names, your JSON file should keep getting bigger and bigger.*"
   ]
  },
  {
   "cell_type": "markdown",
   "metadata": {},
   "source": [
    "### Exercise 30\n",
    "*In the previous exercise we saved information about famous scientists’ names and birthdays to disk.* \n",
    "\n",
    "*In this exercise, load that JSON file from disk, extract the months of all the birthdays, and count how many scientists have a birthday in each month.*\n",
    "\n",
    "_Your program should output something like:_\n",
    "\n",
    "    {\n",
    "        \"May\": 3,\n",
    "        \"November\": 2,\n",
    "        \"December\": 1\n",
    "    }"
   ]
  },
  {
   "cell_type": "markdown",
   "metadata": {},
   "source": [
    "### Exercise 31\n",
    "*In this exercise, use the [bokeh](http://bokeh.pydata.org/en/latest/) (or **any other of your choice**) Python library to plot a histogram of which months the scientists have birthdays in! Because it would take a long time for you to input the months of various scientists, you can use [this scientist birthday JSON file](https://www.practicepython.org/assets/scientist_birthdays.json). Just parse out the months (if you don’t know how, I suggest looking at the previous exercise or its solution) and draw your histogram.*"
   ]
  }
 ],
 "metadata": {
  "hide_input": false,
  "kernelspec": {
   "display_name": "Python 3",
   "language": "python",
   "name": "python3"
  },
  "language_info": {
   "codemirror_mode": {
    "name": "ipython",
    "version": 3
   },
   "file_extension": ".py",
   "mimetype": "text/x-python",
   "name": "python",
   "nbconvert_exporter": "python",
   "pygments_lexer": "ipython3",
   "version": "3.7.6"
  },
  "toc": {
   "base_numbering": 1,
   "nav_menu": {},
   "number_sections": true,
   "sideBar": true,
   "skip_h1_title": false,
   "title_cell": "Table of Contents",
   "title_sidebar": "Contents",
   "toc_cell": false,
   "toc_position": {},
   "toc_section_display": true,
   "toc_window_display": false
  },
  "varInspector": {
   "cols": {
    "lenName": 16,
    "lenType": 16,
    "lenVar": 40
   },
   "kernels_config": {
    "python": {
     "delete_cmd_postfix": "",
     "delete_cmd_prefix": "del ",
     "library": "var_list.py",
     "varRefreshCmd": "print(var_dic_list())"
    },
    "r": {
     "delete_cmd_postfix": ") ",
     "delete_cmd_prefix": "rm(",
     "library": "var_list.r",
     "varRefreshCmd": "cat(var_dic_list()) "
    }
   },
   "types_to_exclude": [
    "module",
    "function",
    "builtin_function_or_method",
    "instance",
    "_Feature"
   ],
   "window_display": false
  }
 },
 "nbformat": 4,
 "nbformat_minor": 2
}
